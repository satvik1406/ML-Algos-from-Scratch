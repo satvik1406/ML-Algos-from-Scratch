{
  "nbformat": 4,
  "nbformat_minor": 0,
  "metadata": {
    "colab": {
      "name": "Comparative Study",
      "provenance": [],
      "collapsed_sections": []
    },
    "kernelspec": {
      "name": "python3",
      "display_name": "Python 3"
    },
    "language_info": {
      "name": "python"
    }
  },
  "cells": [
    {
      "cell_type": "code",
      "metadata": {
        "id": "ZmqKPSY4teg8"
      },
      "source": [
        "\n",
        "from sklearn.linear_model import LogisticRegression\n",
        "from sklearn.svm import SVC\n",
        "import numpy as np\n",
        "import pandas as pd\n",
        "import matplotlib.pyplot as plt\n",
        "from sklearn.discriminant_analysis import LinearDiscriminantAnalysis\n",
        "from sklearn.linear_model import Perceptron\n",
        "import matplotlib.pyplot as plt\n",
        "from sklearn.naive_bayes import GaussianNB\n",
        "from sklearn.neural_network import MLPClassifier"
      ],
      "execution_count": 30,
      "outputs": []
    },
    {
      "cell_type": "markdown",
      "metadata": {
        "id": "kHCDNK_7tkQn"
      },
      "source": [
        ""
      ]
    },
    {
      "cell_type": "code",
      "metadata": {
        "id": "7a7lMgXifcIi"
      },
      "source": [
        "df = pd.read_csv(\"dataset_comb.csv\", header=0)"
      ],
      "execution_count": 31,
      "outputs": []
    },
    {
      "cell_type": "code",
      "metadata": {
        "id": "A_xbUVEDsonA",
        "colab": {
          "base_uri": "https://localhost:8080/"
        },
        "outputId": "6b94c3fd-06e9-46e7-d133-d096c85d6028"
      },
      "source": [
        "df.columns = [\"Id\",\"Area\",\"MajorAxisLength\",\"MinorAxisLength\",\"Eccentricity\",\"ConvexArea\",\"EquivDiameter\",\"Extent\",\"Perimeter\",\"Roundness\",\"AspectRation\",\"Class\"]\n",
        "X = df[[\"Id\",\"Area\",\"MajorAxisLength\",\"MinorAxisLength\",\"Eccentricity\",\"ConvexArea\",\"EquivDiameter\",\"Extent\",\"Perimeter\",\"Roundness\",\"AspectRation\"]]\n",
        "print(X.shape)\n",
        "# X = np.array(X)\n",
        "Y = df[\"Class\"]\n",
        "# Y = np.array(Y)\n",
        "# print(Y)"
      ],
      "execution_count": 32,
      "outputs": [
        {
          "output_type": "stream",
          "text": [
            "(18185, 11)\n"
          ],
          "name": "stdout"
        }
      ]
    },
    {
      "cell_type": "code",
      "metadata": {
        "id": "8WXj9irsNhkZ"
      },
      "source": [
        "from sklearn.model_selection import StratifiedKFold\n",
        "from sklearn.metrics import accuracy_score\n",
        "\n",
        "def LogisticReg(x_train,x_test,y_train,y_test):\n",
        "  logisticRegr = LogisticRegression(solver='liblinear')\n",
        "  logisticRegr.fit(x_train, y_train)\n",
        "  pred_values=logisticRegr.predict(x_test)\n",
        "  acc = accuracy_score(pred_values ,y_test)\n",
        "  return acc\n",
        "\n",
        "def Percept(x_train,x_test,y_train,y_test):\n",
        "  model = Perceptron(random_state=0)\n",
        "  model.fit(x_train,y_train)\n",
        "  pred_values = model.predict(x_test)\n",
        "  acc = accuracy_score(pred_values ,y_test)\n",
        "  return acc\n",
        "\n",
        "def LinearDiscr(x_train,x_test,y_train,y_test):\n",
        "  model = LinearDiscriminantAnalysis()\n",
        "  model.fit(x_train,y_train)\n",
        "  pred_values = model.predict(x_test)\n",
        "  acc = accuracy_score(pred_values ,y_test)\n",
        "  return acc\n",
        "\n",
        "def NaiveBayes(x_train,x_test,y_train,y_test):\n",
        "  model = GaussianNB()\n",
        "  model.fit(x_train,y_train)\n",
        "  pred_values = model.predict(x_test)\n",
        "  acc = accuracy_score(pred_values ,y_test)\n",
        "  return acc\n",
        "\n",
        "def ANN(x_train,x_test,y_train,y_test):\n",
        "  model = MLPClassifier(max_iter=1000000)\n",
        "  model.fit(x_train,y_train)\n",
        "  pred_values = model.predict(x_test)\n",
        "  acc = accuracy_score(pred_values ,y_test)\n",
        "  return acc\n",
        "\n",
        "def SVM(x_train,x_test,y_train,y_test):\n",
        "  model = SVC(kernel='linear')\n",
        "  model.fit(x_train,y_train)\n",
        "  pred_values = model.predict(x_test)\n",
        "  acc = accuracy_score(pred_values ,y_test)\n",
        "  return acc\n",
        "\n",
        "\n",
        "\n",
        "folds = StratifiedKFold(n_splits=7)\n",
        "\n",
        "scores_logistic = []\n",
        "scores_svm = []\n",
        "scores_lda = []\n",
        "scores_lp = []\n",
        "scores_nb = []\n",
        "scores_ann = []\n",
        "for train_index, test_index in folds.split(X,Y):\n",
        "    X_train, X_test, y_train, y_test = X.loc[train_index], X.loc[test_index],Y[train_index],Y[test_index] \n",
        "    scores_logistic.append(LogisticReg(X_train, X_test, y_train, y_test))\n",
        "    scores_lp.append(Percept(X_train, X_test, y_train, y_test))\n",
        "    scores_lda.append(LinearDiscr(X_train, X_test, y_train, y_test))\n",
        "    scores_nb.append(NaiveBayes(X_train, X_test, y_train, y_test))\n",
        "    scores_ann.append(ANN(X_train, X_test, y_train, y_test))\n",
        "    scores_svm.append(SVM(X_train, X_test, y_train, y_test))  "
      ],
      "execution_count": 33,
      "outputs": []
    },
    {
      "cell_type": "code",
      "metadata": {
        "id": "d1Rqlsj9PVdL",
        "colab": {
          "base_uri": "https://localhost:8080/"
        },
        "outputId": "65b86417-b2e4-45f7-eef0-4afa47682a3f"
      },
      "source": [
        "data = [scores_logistic,scores_svm,scores_lda,scores_lp,scores_nb,scores_ann]\n",
        "\n",
        "print('The average accuracy for LR is:',sum(scores_logistic)/len(scores_logistic)*100)\n",
        "print('The average accuracy for SVM is:',sum(scores_svm)/len(scores_svm)*100)\n",
        "print('The average accuracy for LDA is:',sum(scores_lda)/len(scores_lda)*100)\n",
        "print('The average accuracy for LP is:',sum(scores_lp)/len(scores_lp)*100)\n",
        "print('The average accuracy for NB is:',sum(scores_nb)/len(scores_nb)*100)\n",
        "print('The average accuracy for ANN is:',sum(scores_ann)/len(scores_ann)*100)\n",
        "\n",
        "print(scores_logistic)\n",
        "print(scores_svm)\n",
        "print(scores_lda)\n",
        "print(scores_lp)\n",
        "print(scores_nb)\n",
        "print(scores_ann)\n",
        "\n"
      ],
      "execution_count": 41,
      "outputs": [
        {
          "output_type": "stream",
          "text": [
            "The average accuracy for LR is:%d % 97.89397803156795\n",
            "The average accuracy for SVM is: 98.47135158913449\n",
            "The average accuracy for LDA is: 99.02672385351369\n",
            "The average accuracy for LP is: 95.52952609117077\n",
            "The average accuracy for NB is: 97.992756236724\n",
            "The average accuracy for ANN is: 95.00700649401273\n",
            "[0.8537336412625096, 1.0, 1.0, 1.0, 1.0, 1.0, 0.9988448209472468]\n",
            "[0.8929946112394149, 1.0, 1.0, 1.0, 1.0, 1.0, 1.0]\n",
            "[0.9318706697459584, 1.0, 1.0, 1.0, 1.0, 1.0, 1.0]\n",
            "[0.6874518860662048, 1.0, 1.0, 1.0, 1.0, 1.0, 0.9996149403157489]\n",
            "[0.9491916859122402, 0.9865280985373364, 0.9911470361816782, 0.9923017705927637, 0.9888375673595073, 0.9888375673595073, 0.9626492106276473]\n",
            "[0.6978444957659738, 1.0, 0.9992301770592764, 0.9795996920708238, 0.9996150885296382, 1.0, 0.974201001155179]\n"
          ],
          "name": "stdout"
        }
      ]
    },
    {
      "cell_type": "code",
      "metadata": {
        "id": "I8VPGdyEVe_9",
        "colab": {
          "base_uri": "https://localhost:8080/",
          "height": 424
        },
        "outputId": "fbcfd492-19a9-4075-9ff9-0aa659a44cfb"
      },
      "source": [
        "fig = plt.figure(figsize =(6, 5))\n",
        "ax = fig.add_axes([0, 0, 1, 1])\n",
        "plt.boxplot(data)\n",
        "plt.title(\"Box Plot for Various ML Models\")\n",
        "plt.ylabel('Accuracies')\n",
        "plt.xticks([1,2,3,4,5,6], ['LR', 'SVM', 'LDA', 'LP', 'NB', 'ANN'])\n",
        "plt.show()"
      ],
      "execution_count": 35,
      "outputs": [
        {
          "output_type": "display_data",
          "data": {
            "image/png": "[encoded data removed]",
            "text/plain": [
              "<Figure size 432x360 with 1 Axes>"
            ]
          },
          "metadata": {
            "tags": [],
            "needs_background": "light"
          }
        }
      ]
    },
    {
      "cell_type": "code",
      "metadata": {
        "id": "zQKKgSF9oPOg"
      },
      "source": [
        "\n",
        "\n",
        "# for train_index, test_index in folds.split(X,Y):\n",
        "#     X_train, X_test, y_train, y_test = X.loc[train_index], X.loc[test_index],Y[train_index],Y[test_index]\n",
        "#     scores_logistic.append(get_score(LogisticRegression(solver='liblinear'),X_train, X_test, y_train, y_test))  \n",
        "#     scores_logistic.append(LogisticReg(X_train, X_test, y_train, y_test))\n",
        "#     scores_svm.append(get_score(SVC(kernel='linear'), X_train, X_test, y_train, y_test))\n",
        "#     scores_lda.append(get_score(LinearDiscriminantAnalysis(), X_train, X_test, y_train, y_test))\n",
        "#     scores_lp.append(get_score(Perceptron(tol=1e-3, random_state=0), X_train, X_test, y_train, y_test))\n",
        "#     scores_nb.append(get_score(GaussianNB(), X_train, X_test, y_train, y_test))\n",
        "#     scores_ann.append(get_score(MLPClassifier(max_iter=1000000), X_train, X_test, y_train, y_test))"
      ],
      "execution_count": 36,
      "outputs": []
    }
  ]
}